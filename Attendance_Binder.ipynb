{
 "cells": [
  {
   "cell_type": "code",
   "execution_count": 1,
   "id": "1b68abdb",
   "metadata": {},
   "outputs": [],
   "source": [
    "import cv2\n",
    "import pytesseract\n",
    "from matplotlib import pyplot as plt\n",
    "import numpy as np\n",
    "import pandas as pd\n",
    "import traitlets\n",
    "from ipywidgets import widgets\n",
    "from IPython.display import display\n",
    "from tkinter import Tk, filedialog\n",
    "pd.set_option('display.max_rows', None)"
   ]
  },
  {
   "cell_type": "code",
   "execution_count": 2,
   "id": "61858773",
   "metadata": {},
   "outputs": [],
   "source": [
    "class SelectFilesButton(widgets.Button):\n",
    "    \"\"\"A file widget that leverages tkinter.filedialog.\"\"\"\n",
    "\n",
    "    def __init__(self):\n",
    "        super(SelectFilesButton, self).__init__()\n",
    "        # Add the selected_files trait\n",
    "        self.add_traits(files=traitlets.traitlets.List())\n",
    "        # Create the button.\n",
    "        self.description = \"Select Files\"\n",
    "        self.icon = \"square-o\"\n",
    "        self.style.button_color = \"orange\"\n",
    "        # Set on click behavior.\n",
    "        self.on_click(self.select_files)\n",
    "\n",
    "    @staticmethod\n",
    "    def select_files(b):\n",
    "        \"\"\"Generate instance of tkinter.filedialog.\n",
    "\n",
    "        Parameters\n",
    "        ----------\n",
    "        b : obj:\n",
    "            An instance of ipywidgets.widgets.Button \n",
    "        \"\"\"\n",
    "        # Create Tk root\n",
    "        root = Tk()\n",
    "        # Hide the main window\n",
    "        root.withdraw()\n",
    "        # Raise the root to the top of all windows.\n",
    "        root.call('wm', 'attributes', '.', '-topmost', True)\n",
    "        # List of selected fileswill be set to b.value\n",
    "        b.files = filedialog.askopenfilename(multiple=True)\n",
    "\n",
    "        b.description = \"Files Selected\"\n",
    "        b.icon = \"check-square-o\"\n",
    "        b.style.button_color = \"lightgreen\"\n",
    "        \n",
    "def read_image(image):\n",
    "    ##Preprocessing the image\n",
    "    #Cropping the image so that it only shows the Student ID number. This may be required to be adjusted for each user.\n",
    "    cropped = image[120:1032, 60:127] \n",
    "\n",
    "    #Gray scaling the image.\n",
    "    gray = cv2.cvtColor(cropped, cv2.COLOR_BGR2GRAY)\n",
    "\n",
    "    #Threshholding the image.\n",
    "    thresh = cv2.threshold(gray, 0, 220, cv2.THRESH_BINARY_INV + cv2.THRESH_OTSU)[1]\n",
    "\n",
    "    #Student ID number detection goes on here. The configuration allows for it to detect only numbers.\n",
    "    result = pytesseract.image_to_string(thresh ,config='--psm 4 --oem 3 -c tessedit_char_whitelist=0123456789')\n",
    "    result = result.split()\n",
    "    return result\n",
    "\n",
    "def update_attendance(file_name):\n",
    "    attendanceSheet = pd.read_excel(file_name)\n",
    "    attendance = attendanceSheet['StudentID'].apply(lambda x: any(item for item in res if item == x ))\n",
    "    attendanceSheet['Present'] = 'X'\n",
    "    attendanceSheet.Present[attendance] = \"O\"\n",
    "    today = pd.to_datetime('today').strftime(\"%m/%d/%Y\")\n",
    "    attendanceSheet = attendanceSheet.rename(columns = {'Present':today})\n",
    "    return attendanceSheet"
   ]
  },
  {
   "cell_type": "code",
   "execution_count": 3,
   "id": "0bb6d6f8",
   "metadata": {},
   "outputs": [],
   "source": [
    "my_button = SelectFilesButton()\n",
    "my_button2 = SelectFilesButton()"
   ]
  },
  {
   "cell_type": "code",
   "execution_count": 4,
   "id": "85bf44f6",
   "metadata": {},
   "outputs": [],
   "source": [
    "button_send = widgets.Button(\n",
    "                description='Take Attendance',\n",
    "                tooltip='Send',\n",
    "                style={'description_width': 'initial'}\n",
    "            )\n",
    "\n",
    "output = widgets.Output()\n",
    "\n",
    "def on_button_clicked(event):\n",
    "    with output:\n",
    "        results = []\n",
    "        for x in range(len(my_button.files)):\n",
    "            img = cv2.imread(my_button.files[x])\n",
    "            results += read_image(img) \n",
    "        res = []\n",
    "        for i in results:\n",
    "            if i not in res:\n",
    "                res.append(i)\n",
    "                res = list(map(int, res))\n",
    "        attendanceSheet = pd.read_excel(my_button2.files[0])\n",
    "        attendance = attendanceSheet['StudentID'].apply(lambda x: any(item for item in res if item == x ))\n",
    "        attendanceSheet['Present'] = 'X'\n",
    "        attendanceSheet.Present[attendance] = \"O\"\n",
    "        today = pd.to_datetime('today').strftime(\"%m/%d/%Y\")\n",
    "        attendanceSheet = attendanceSheet.rename(columns = {'Present':today})\n",
    "        display(attendanceSheet)\n",
    "\n",
    "button_send.on_click(on_button_clicked)\n",
    "\n",
    "vbox_result = widgets.VBox([button_send, output])"
   ]
  },
  {
   "cell_type": "code",
   "execution_count": 5,
   "id": "24bc61af",
   "metadata": {},
   "outputs": [],
   "source": [
    "text_0 = widgets.HTML(value=\"<h1>Automated Attendance Serivce</h1>\")\n",
    "text_1 = widgets.HTML(value=\"<h4>Please select and upload image file.</h4>\")\n",
    "text_2= widgets.HTML(value=\"<h4>Please select and upload attendance file.</h2>\")\n",
    "#text_3= widgets.HTML(value=\"<h2>for dinner, if that's okay for you!</h2>\")\n",
    "#text_4= widgets.HTML(value=\"<h2>Also, if you don't mind, I'll bring along </h2>\")\n",
    "#text_5= widgets.HTML(value=\"<h2>hungry ghosts for dinner, if that's okay for you!</h2>\")"
   ]
  },
  {
   "cell_type": "code",
   "execution_count": 6,
   "id": "25debe45",
   "metadata": {},
   "outputs": [
    {
     "data": {
      "application/vnd.jupyter.widget-view+json": {
       "model_id": "e0bf847eb4044080985704214937d1d5",
       "version_major": 2,
       "version_minor": 0
      },
      "text/plain": [
       "HBox(children=(VBox(children=(HTML(value='<h1>Automated Attendance Serivce</h1>'), HTML(value='<h4>Please sele…"
      ]
     },
     "metadata": {},
     "output_type": "display_data"
    }
   ],
   "source": [
    "vbox_text = widgets.VBox([text_0, text_1, my_button, text_2, my_button2])\n",
    "\n",
    "page = widgets.HBox([vbox_text, vbox_result])\n",
    "display(page)"
   ]
  },
  {
   "cell_type": "code",
   "execution_count": null,
   "id": "fb4b719c",
   "metadata": {},
   "outputs": [],
   "source": []
  }
 ],
 "metadata": {
  "kernelspec": {
   "display_name": "Python 3",
   "language": "python",
   "name": "python3"
  },
  "language_info": {
   "codemirror_mode": {
    "name": "ipython",
    "version": 3
   },
   "file_extension": ".py",
   "mimetype": "text/x-python",
   "name": "python",
   "nbconvert_exporter": "python",
   "pygments_lexer": "ipython3",
   "version": "3.8.8"
  }
 },
 "nbformat": 4,
 "nbformat_minor": 5
}
